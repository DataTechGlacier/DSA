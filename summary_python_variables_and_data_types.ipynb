{
  "nbformat": 4,
  "nbformat_minor": 0,
  "metadata": {
    "colab": {
      "provenance": [],
      "include_colab_link": true
    },
    "kernelspec": {
      "name": "python3",
      "display_name": "Python 3"
    },
    "language_info": {
      "name": "python"
    }
  },
  "cells": [
    {
      "cell_type": "markdown",
      "metadata": {
        "id": "view-in-github",
        "colab_type": "text"
      },
      "source": [
        "<a href=\"https://colab.research.google.com/github/DataTechGlacier/DSA/blob/main/summary_python_variables_and_data_types.ipynb\" target=\"_parent\"><img src=\"https://colab.research.google.com/assets/colab-badge.svg\" alt=\"Open In Colab\"/></a>"
      ]
    },
    {
      "cell_type": "code",
      "execution_count": null,
      "metadata": {
        "id": "5eYs_3OpHMgS"
      },
      "outputs": [],
      "source": [
        "color1, color2, color3 = \"red\", \"green\", \"blue\""
      ]
    },
    {
      "cell_type": "code",
      "source": [
        "print(color1, color2)"
      ],
      "metadata": {
        "colab": {
          "base_uri": "https://localhost:8080/"
        },
        "id": "sB0Bu3MPHTZZ",
        "outputId": "5403f2bf-ea48-45aa-a90f-780fae31fcb4"
      },
      "execution_count": null,
      "outputs": [
        {
          "output_type": "stream",
          "name": "stdout",
          "text": [
            "red green\n"
          ]
        }
      ]
    },
    {
      "cell_type": "code",
      "source": [
        "color4 = color5 = color6 = \"magenta\"\n",
        "print(color4, color5, sep=\", \")"
      ],
      "metadata": {
        "colab": {
          "base_uri": "https://localhost:8080/"
        },
        "id": "ljpN8r1aHVug",
        "outputId": "6e6a66fe-2276-4d27-b0e1-d4d164103935"
      },
      "execution_count": null,
      "outputs": [
        {
          "output_type": "stream",
          "name": "stdout",
          "text": [
            "magenta, magenta\n"
          ]
        }
      ]
    },
    {
      "cell_type": "code",
      "source": [
        "is_today_Saturday = False\n",
        "type(is_today_Saturday)"
      ],
      "metadata": {
        "colab": {
          "base_uri": "https://localhost:8080/"
        },
        "id": "w4wZ2IY1Hk6w",
        "outputId": "b0428afa-808d-46e0-c1c1-35ce7ad2aaf3"
      },
      "execution_count": null,
      "outputs": [
        {
          "output_type": "execute_result",
          "data": {
            "text/plain": [
              "bool"
            ]
          },
          "metadata": {},
          "execution_count": 6
        }
      ]
    },
    {
      "cell_type": "markdown",
      "source": [
        "There's no lowest or highest value for integers, and there's just one int type (as opposed to short, int, long, long long, unsigned int, etc. in C/C++/Java)."
      ],
      "metadata": {
        "id": "xQh6UMNHJdI-"
      }
    },
    {
      "cell_type": "code",
      "source": [
        "a_large_negative_number = -23374038374832934334234317348343\n",
        "print(a_large_negative_number)\n",
        "type(a_large_negative_number)"
      ],
      "metadata": {
        "colab": {
          "base_uri": "https://localhost:8080/"
        },
        "id": "ldiUdqncHuUe",
        "outputId": "5a4bcbd9-3cf0-48c1-b907-ffd93530c54f"
      },
      "execution_count": null,
      "outputs": [
        {
          "output_type": "stream",
          "name": "stdout",
          "text": [
            "-23374038374832934334234317348343\n"
          ]
        },
        {
          "output_type": "execute_result",
          "data": {
            "text/plain": [
              "int"
            ]
          },
          "metadata": {},
          "execution_count": 7
        }
      ]
    },
    {
      "cell_type": "code",
      "source": [
        "pi = 3.141592653589793238\n",
        "print(pi)\n",
        "type(pi)"
      ],
      "metadata": {
        "colab": {
          "base_uri": "https://localhost:8080/"
        },
        "id": "j73mq3XnIJ9Y",
        "outputId": "dc057c32-2116-4d95-91ac-21feb25b691a"
      },
      "execution_count": null,
      "outputs": [
        {
          "output_type": "stream",
          "name": "stdout",
          "text": [
            "3.141592653589793\n"
          ]
        },
        {
          "output_type": "execute_result",
          "data": {
            "text/plain": [
              "float"
            ]
          },
          "metadata": {},
          "execution_count": 8
        }
      ]
    },
    {
      "cell_type": "code",
      "source": [
        "a_number = 3.0\n",
        "type(a_number)"
      ],
      "metadata": {
        "colab": {
          "base_uri": "https://localhost:8080/"
        },
        "id": "Hf81_l_6IRNE",
        "outputId": "f8432467-6431-4c20-e5ed-5d57748bdae2"
      },
      "execution_count": null,
      "outputs": [
        {
          "output_type": "execute_result",
          "data": {
            "text/plain": [
              "float"
            ]
          },
          "metadata": {},
          "execution_count": 9
        }
      ]
    },
    {
      "cell_type": "code",
      "source": [
        "another_number = 4.\n",
        "type(another_number)"
      ],
      "metadata": {
        "colab": {
          "base_uri": "https://localhost:8080/"
        },
        "id": "JLsWIl2DIXXv",
        "outputId": "42721d86-7944-4633-cee1-e3b89744b341"
      },
      "execution_count": null,
      "outputs": [
        {
          "output_type": "execute_result",
          "data": {
            "text/plain": [
              "float"
            ]
          },
          "metadata": {},
          "execution_count": 10
        }
      ]
    },
    {
      "cell_type": "code",
      "source": [
        "one_hundredth = 1e-2\n",
        "one_hundredth"
      ],
      "metadata": {
        "colab": {
          "base_uri": "https://localhost:8080/"
        },
        "id": "Rjv2DUAOIkvx",
        "outputId": "a0e19284-e02b-47c3-f4df-fb58bee0d8b3"
      },
      "execution_count": null,
      "outputs": [
        {
          "output_type": "execute_result",
          "data": {
            "text/plain": [
              "0.01"
            ]
          },
          "metadata": {},
          "execution_count": 11
        }
      ]
    },
    {
      "cell_type": "markdown",
      "source": [
        "here e indicate the power of 10"
      ],
      "metadata": {
        "id": "Tq_ZXTECJhe6"
      }
    },
    {
      "cell_type": "code",
      "source": [
        "a = 5\n",
        "print(float(a))\n",
        "print(int(pi))"
      ],
      "metadata": {
        "colab": {
          "base_uri": "https://localhost:8080/"
        },
        "id": "fGajNPTTJSQY",
        "outputId": "3cdb68b0-35f3-4c03-ef99-7757a3f9593e"
      },
      "execution_count": null,
      "outputs": [
        {
          "output_type": "stream",
          "name": "stdout",
          "text": [
            "5.0\n",
            "3\n"
          ]
        }
      ]
    },
    {
      "cell_type": "markdown",
      "source": [
        "### Type of result after arithmetic operations"
      ],
      "metadata": {
        "id": "3MV3ViYeJ6n6"
      }
    },
    {
      "cell_type": "code",
      "source": [
        "print(type(9 + 3.0)) # when one operand is float, result is also float\n",
        "print(type(9 * 3.0))\n",
        "print(type(9 * 3))\n",
        "print(type(9 / 3)) # / operator always produces float\n",
        "print(type(9 // 3))"
      ],
      "metadata": {
        "colab": {
          "base_uri": "https://localhost:8080/"
        },
        "id": "2WC4Mj5XJ5pG",
        "outputId": "fd8cd8d1-c6a4-44bc-aca1-3c0037a39709"
      },
      "execution_count": null,
      "outputs": [
        {
          "output_type": "stream",
          "name": "stdout",
          "text": [
            "<class 'float'>\n",
            "<class 'float'>\n",
            "<class 'int'>\n",
            "<class 'float'>\n",
            "<class 'int'>\n"
          ]
        }
      ]
    },
    {
      "cell_type": "code",
      "source": [
        "11 / 3, 11 // 3"
      ],
      "metadata": {
        "colab": {
          "base_uri": "https://localhost:8080/"
        },
        "id": "SaV3UvNoKfaI",
        "outputId": "e3c0b35a-2411-4160-c8ac-bcc29d5abfc5"
      },
      "execution_count": null,
      "outputs": [
        {
          "output_type": "execute_result",
          "data": {
            "text/plain": [
              "(3.6666666666666665, 3)"
            ]
          },
          "metadata": {},
          "execution_count": 21
        }
      ]
    },
    {
      "cell_type": "markdown",
      "source": [
        "Booleans are automatically converted to ints when used in arithmetic operations. True is converted to 1 and False is converted to 0."
      ],
      "metadata": {
        "id": "fpLwKYSyK-9f"
      }
    },
    {
      "cell_type": "code",
      "source": [
        "5 + False, 3. + True"
      ],
      "metadata": {
        "colab": {
          "base_uri": "https://localhost:8080/"
        },
        "id": "RvpJBayIKwb-",
        "outputId": "40c915a8-07c0-47a7-d189-1e8db3f685a2"
      },
      "execution_count": null,
      "outputs": [
        {
          "output_type": "execute_result",
          "data": {
            "text/plain": [
              "(5, 4.0)"
            ]
          },
          "metadata": {},
          "execution_count": 22
        }
      ]
    },
    {
      "cell_type": "markdown",
      "source": [
        "Any value in Python can be converted to a Boolean using the bool function.\n",
        "\n",
        "Only the following values evaluate to False (they are often called falsy values):\n",
        "\n",
        "1. The value False itself\n",
        "2. The integer 0\n",
        "3. The float 0.0\n",
        "4. The empty value None\n",
        "5. The empty text \"\"\n",
        "6. The empty list []\n",
        "7. The empty tuple ()\n",
        "8. The empty dictionary {}\n",
        "9. The empty set set()\n",
        "10. The empty range range(0)\n",
        "\n",
        "Everything else evaluates to True (a value that evaluates to True is often called a truthy value)."
      ],
      "metadata": {
        "id": "X-t5S39sLejb"
      }
    },
    {
      "cell_type": "code",
      "source": [
        "bool(0.0), bool({}), bool(None), bool(\"\"), bool(range(0))"
      ],
      "metadata": {
        "colab": {
          "base_uri": "https://localhost:8080/"
        },
        "id": "eyqFi6MfLFxD",
        "outputId": "1193258e-7174-4cd9-8448-838dcfb9e5e7"
      },
      "execution_count": null,
      "outputs": [
        {
          "output_type": "execute_result",
          "data": {
            "text/plain": [
              "(False, False, False, False, False)"
            ]
          },
          "metadata": {},
          "execution_count": 23
        }
      ]
    },
    {
      "cell_type": "code",
      "source": [
        "bool(1), bool(2.0), bool(\"hello\"), bool([1,2]), bool((2,3)), bool(range(10))"
      ],
      "metadata": {
        "colab": {
          "base_uri": "https://localhost:8080/"
        },
        "id": "PgtyeHDvL463",
        "outputId": "5209c714-0796-49e0-f461-97f077dfb6c4"
      },
      "execution_count": null,
      "outputs": [
        {
          "output_type": "execute_result",
          "data": {
            "text/plain": [
              "(True, True, True, True, True, True)"
            ]
          },
          "metadata": {},
          "execution_count": 24
        }
      ]
    },
    {
      "cell_type": "markdown",
      "source": [
        "### None\n",
        "\n",
        "The None type includes a single value `None`, used to indicate the absence of a value. `None` has the type `NoneType`. It is often used to declare a variable whose value may be assigned later."
      ],
      "metadata": {
        "id": "RGynwpOVMHU5"
      }
    },
    {
      "cell_type": "code",
      "source": [
        "nothing = None\n",
        "\n",
        "type(nothing)"
      ],
      "metadata": {
        "colab": {
          "base_uri": "https://localhost:8080/"
        },
        "id": "_nPSsnhzMIRG",
        "outputId": "99a0e23f-b745-4908-d495-9cbccabc8706"
      },
      "execution_count": null,
      "outputs": [
        {
          "output_type": "execute_result",
          "data": {
            "text/plain": [
              "NoneType"
            ]
          },
          "metadata": {},
          "execution_count": 25
        }
      ]
    },
    {
      "cell_type": "markdown",
      "source": [
        "Note that special characters like \\n and escaped characters like \\\" count as a single character, even though they are written and sometimes printed as two characters."
      ],
      "metadata": {
        "id": "YKGAhcc2Mnjj"
      }
    },
    {
      "cell_type": "code",
      "source": [
        "multiline_string = \"\"\"a\n",
        "b\"\"\"\n",
        "print(len(multiline_string))\n",
        "multiline_string"
      ],
      "metadata": {
        "colab": {
          "base_uri": "https://localhost:8080/",
          "height": 53
        },
        "id": "s7prCekRMko_",
        "outputId": "49317294-dc77-45fc-9de4-347fde041639"
      },
      "execution_count": null,
      "outputs": [
        {
          "output_type": "stream",
          "name": "stdout",
          "text": [
            "3\n"
          ]
        },
        {
          "output_type": "execute_result",
          "data": {
            "text/plain": [
              "'a\\nb'"
            ],
            "application/vnd.google.colaboratory.intrinsic+json": {
              "type": "string"
            }
          },
          "metadata": {},
          "execution_count": 26
        }
      ]
    },
    {
      "cell_type": "code",
      "source": [
        "name='Ana'\n",
        "list(name)"
      ],
      "metadata": {
        "colab": {
          "base_uri": "https://localhost:8080/"
        },
        "id": "xhDuUAYAMzDF",
        "outputId": "b6ccf58a-4a65-4d26-d1e4-b48465b91999"
      },
      "execution_count": null,
      "outputs": [
        {
          "output_type": "execute_result",
          "data": {
            "text/plain": [
              "['A', 'n', 'a']"
            ]
          },
          "metadata": {},
          "execution_count": 28
        }
      ]
    },
    {
      "cell_type": "code",
      "source": [
        "list(multiline_string)"
      ],
      "metadata": {
        "colab": {
          "base_uri": "https://localhost:8080/"
        },
        "id": "sqb79qu2M6rC",
        "outputId": "6ef195d1-37fe-4922-f83e-7aaa64c9ac53"
      },
      "execution_count": null,
      "outputs": [
        {
          "output_type": "execute_result",
          "data": {
            "text/plain": [
              "['a', '\\n', 'b']"
            ]
          },
          "metadata": {},
          "execution_count": 29
        }
      ]
    },
    {
      "cell_type": "markdown",
      "source": [
        "### String methods"
      ],
      "metadata": {
        "id": "bv3Ld6Kv9iE7"
      }
    },
    {
      "cell_type": "code",
      "source": [
        "today = \"monday\".capitalize() # changes first character to uppercase\n",
        "print(today)\n",
        "\n",
        "today.lower(), today.upper()"
      ],
      "metadata": {
        "colab": {
          "base_uri": "https://localhost:8080/"
        },
        "id": "uVsQKfJy9j5Q",
        "outputId": "aa5ce97e-2a0c-4b16-f9ca-d52efed15ea0"
      },
      "execution_count": null,
      "outputs": [
        {
          "output_type": "stream",
          "name": "stdout",
          "text": [
            "Monday\n"
          ]
        },
        {
          "output_type": "execute_result",
          "data": {
            "text/plain": [
              "('monday', 'MONDAY')"
            ]
          },
          "metadata": {},
          "execution_count": 8
        }
      ]
    },
    {
      "cell_type": "code",
      "source": [
        "today # original string is not modified"
      ],
      "metadata": {
        "colab": {
          "base_uri": "https://localhost:8080/",
          "height": 36
        },
        "id": "fSmtMiU496Ow",
        "outputId": "b7da3829-5eea-4eab-d96d-27e2b30e6878"
      },
      "execution_count": null,
      "outputs": [
        {
          "output_type": "execute_result",
          "data": {
            "text/plain": [
              "'Monday'"
            ],
            "application/vnd.google.colaboratory.intrinsic+json": {
              "type": "string"
            }
          },
          "metadata": {},
          "execution_count": 2
        }
      ]
    },
    {
      "cell_type": "markdown",
      "source": [
        "#### replace\n",
        "\n",
        "Syntax\n",
        "```\n",
        "string.replace(oldvalue, newvalue, count)\n",
        "```\n",
        "<i>count</i>\tOptional. A number specifying how many occurrences of the old value you want to replace. Default is all occurrences"
      ],
      "metadata": {
        "id": "P_5dasli-OXp"
      }
    },
    {
      "cell_type": "code",
      "source": [
        "today.replace(\"Mon\", \"Tues\")"
      ],
      "metadata": {
        "colab": {
          "base_uri": "https://localhost:8080/",
          "height": 36
        },
        "id": "pNCemkgd92DA",
        "outputId": "9184bef6-1ab6-46c2-8fd7-44da75fa83b8"
      },
      "execution_count": null,
      "outputs": [
        {
          "output_type": "execute_result",
          "data": {
            "text/plain": [
              "'monday'"
            ],
            "application/vnd.google.colaboratory.intrinsic+json": {
              "type": "string"
            }
          },
          "metadata": {},
          "execution_count": 7
        }
      ]
    },
    {
      "cell_type": "markdown",
      "source": [
        "#### split"
      ],
      "metadata": {
        "id": "S9w6EiAH_uUi"
      }
    },
    {
      "cell_type": "code",
      "source": [
        "days_of_week = 'sun,mon,tue,wed,thu,fri,sat'.split(\",\")\n",
        "[d.capitalize() for d in days_of_week]"
      ],
      "metadata": {
        "colab": {
          "base_uri": "https://localhost:8080/"
        },
        "id": "EKsgwV_j-900",
        "outputId": "0f59eaff-1b06-4cb3-a7a6-84c720d84c08"
      },
      "execution_count": null,
      "outputs": [
        {
          "output_type": "execute_result",
          "data": {
            "text/plain": [
              "['Sun', 'Mon', 'Tue', 'Wed', 'Thu', 'Fri', 'Sat']"
            ]
          },
          "metadata": {},
          "execution_count": 9
        }
      ]
    },
    {
      "cell_type": "markdown",
      "source": [
        "#### strip\n",
        "removes whitespace characters from the beginning and end of a string."
      ],
      "metadata": {
        "id": "TOwobq9a_n98"
      }
    },
    {
      "cell_type": "code",
      "source": [
        "a_long_line = \"       This is a long line with some space before, after,     and some space in the middle..    \"\n",
        "a_long_line_stripped = a_long_line.strip()\n",
        "a_long_line_stripped"
      ],
      "metadata": {
        "colab": {
          "base_uri": "https://localhost:8080/",
          "height": 36
        },
        "id": "t289DUJN_chT",
        "outputId": "b56c72e0-a158-49c4-a017-0a6f58dfbc3e"
      },
      "execution_count": null,
      "outputs": [
        {
          "output_type": "execute_result",
          "data": {
            "text/plain": [
              "'This is a long line with some space before, after,     and some space in the middle..'"
            ],
            "application/vnd.google.colaboratory.intrinsic+json": {
              "type": "string"
            }
          },
          "metadata": {},
          "execution_count": 10
        }
      ]
    },
    {
      "cell_type": "markdown",
      "source": [
        "## Python String Formatting\n",
        "\n",
        "### 1. Formatting with % Operator.\n",
        "\n",
        "Floating-point numbers use the format %a.bf. Here, a would be the minimum number of digits to be present in the string; these might be padded with white space if the whole number doesn’t have this many digits.\n",
        "\n",
        "Close to this, bf represents how many digits are to be displayed after the decimal point."
      ],
      "metadata": {
        "id": "WyN7JrPTFw4S"
      }
    },
    {
      "cell_type": "code",
      "source": [
        "name = 'John'\n",
        "print('Hello %s. Nice to see you here.' %name)"
      ],
      "metadata": {
        "colab": {
          "base_uri": "https://localhost:8080/"
        },
        "id": "ivJsPr42Frsh",
        "outputId": "76f5f76d-8759-4c39-8fe3-415a21a4bf47"
      },
      "execution_count": null,
      "outputs": [
        {
          "output_type": "stream",
          "name": "stdout",
          "text": [
            "Hello John. Nice to see you here.\n"
          ]
        }
      ]
    },
    {
      "cell_type": "code",
      "source": [
        "x = 'looked'\n",
        "\n",
        "print(\"Misha %s and %s around\"%('walked',x))"
      ],
      "metadata": {
        "colab": {
          "base_uri": "https://localhost:8080/"
        },
        "id": "6XrQjFxHGUZl",
        "outputId": "dff4794e-24db-4fbd-dbf0-2ed4e1ebce0e"
      },
      "execution_count": null,
      "outputs": [
        {
          "output_type": "stream",
          "name": "stdout",
          "text": [
            "Misha walked and looked around\n"
          ]
        }
      ]
    },
    {
      "cell_type": "code",
      "source": [
        "print('The value of pi is: %5.4f' %(3.141592))\n",
        "print('The value of pi is: %7.4f' %(3.141592))\n",
        "print('The value of pi is: %10.4f' %(3.141592))\n",
        "print('The value of pi is: %1.4f' %(3.141592))\n",
        "\n",
        "# Here 5 is the minimum width. If not satisfied, padded with spaces on the left."
      ],
      "metadata": {
        "colab": {
          "base_uri": "https://localhost:8080/"
        },
        "id": "WqO9x0bIGfWp",
        "outputId": "c424ac64-3ff0-4d02-af75-34960e1dfeff"
      },
      "execution_count": null,
      "outputs": [
        {
          "output_type": "stream",
          "name": "stdout",
          "text": [
            "The value of pi is: 3.1416\n",
            "The value of pi is:  3.1416\n",
            "The value of pi is:     3.1416\n",
            "The value of pi is: 3.1416\n"
          ]
        }
      ]
    },
    {
      "cell_type": "code",
      "source": [
        "variable = 12\n",
        "string = \"Variable as integer = %d \\n\\\n",
        "Variable as float = %f\" %(variable, variable)\n",
        "print (string)"
      ],
      "metadata": {
        "colab": {
          "base_uri": "https://localhost:8080/"
        },
        "id": "WcnJBGmhu0SK",
        "outputId": "d94f49d1-bbef-43b8-c4e9-c4db4773cab4"
      },
      "execution_count": null,
      "outputs": [
        {
          "output_type": "stream",
          "name": "stdout",
          "text": [
            "Variable as integer = 12 \n",
            "Variable as float = 12.000000\n"
          ]
        }
      ]
    },
    {
      "cell_type": "markdown",
      "source": [
        "### using format() Method\n",
        "\n",
        "introduced with Python3 for handling complex string formatting more efficiently."
      ],
      "metadata": {
        "id": "ii-A5ewXvK89"
      }
    },
    {
      "cell_type": "code",
      "source": [
        "print('String here {} then also {}'.format('something1','something2'))\n",
        "\n",
        "print('{2} {1} {0}'.format('directions', 'the', 'Read'))\n",
        "\n",
        "# by Assigning Keywords\n",
        "print('a: {a}, b: {b}, c: {c}'.format(a = 1,\n",
        "                                      b = 'Two',\n",
        "                                      c = 12.3))\n",
        "\n",
        "# Reusing keywords\n",
        "print(\n",
        "    'The first {p} was alright, but the {p} {p} was tough.'.format(p='second'))"
      ],
      "metadata": {
        "colab": {
          "base_uri": "https://localhost:8080/"
        },
        "id": "4kRIomruvtJ2",
        "outputId": "d3bac0e0-b8c9-426c-8deb-1014ff16f24f"
      },
      "execution_count": null,
      "outputs": [
        {
          "output_type": "stream",
          "name": "stdout",
          "text": [
            "String here something1 then also something2\n",
            "Read the directions\n"
          ]
        }
      ]
    },
    {
      "cell_type": "markdown",
      "source": [
        "#### Float Precision with the.format() Method\n",
        "\n",
        "Syntax: `{[index]:[width][.precision][type]}`\n",
        "The type can be used with format codes:\n",
        "\n",
        "* ‘d’ for integers\n",
        "* ‘f’ for floating-point numbers\n",
        "* ‘b’ for binary numbers\n",
        "* ‘o’ for octal numbers\n",
        "* ‘x’ for octal hexadecimal numbers\n",
        "* ‘s’ for string\n",
        "* ‘e’ for floating-point in an exponent format"
      ],
      "metadata": {
        "id": "sZQP4UUyL5TY"
      }
    },
    {
      "cell_type": "code",
      "source": [
        "print('The valueof pi is: %1.5f' %3.141592)\n",
        "print('The valueof pi is: {0:1.5f}'.format(3.141592))"
      ],
      "metadata": {
        "colab": {
          "base_uri": "https://localhost:8080/"
        },
        "id": "G7fE_dHnMLx8",
        "outputId": "a126c901-475d-42e9-c40b-f49855ed9223"
      },
      "execution_count": null,
      "outputs": [
        {
          "output_type": "stream",
          "name": "stdout",
          "text": [
            "The valueof pi is: 3.14159\n",
            "The valueof pi is: 3.14159\n"
          ]
        }
      ]
    },
    {
      "cell_type": "markdown",
      "source": [
        "### f-String"
      ],
      "metadata": {
        "id": "IkE51XrUM3ja"
      }
    },
    {
      "cell_type": "code",
      "source": [
        "name = 'Ele'\n",
        "print(f\"My name is {name}.\")"
      ],
      "metadata": {
        "colab": {
          "base_uri": "https://localhost:8080/"
        },
        "id": "W1RtLf0nM5xc",
        "outputId": "ed7ecaea-7ac7-4616-e51e-a6282540dfd7"
      },
      "execution_count": null,
      "outputs": [
        {
          "output_type": "stream",
          "name": "stdout",
          "text": [
            "My name is Ele.\n"
          ]
        }
      ]
    },
    {
      "cell_type": "code",
      "source": [
        "a = 5\n",
        "b = 10\n",
        "print(f\"He said his age is {2 * (a + b)}.\")"
      ],
      "metadata": {
        "colab": {
          "base_uri": "https://localhost:8080/"
        },
        "id": "rsUQ-I7gM-t6",
        "outputId": "915ca31e-f1ad-4abf-870f-f2d3cdf94341"
      },
      "execution_count": null,
      "outputs": [
        {
          "output_type": "stream",
          "name": "stdout",
          "text": [
            "He said his age is 30.\n"
          ]
        }
      ]
    },
    {
      "cell_type": "code",
      "source": [
        "print(f\"He said his age is {(lambda x: x*2)(3)}\")"
      ],
      "metadata": {
        "colab": {
          "base_uri": "https://localhost:8080/"
        },
        "id": "WsRhXPheNHB7",
        "outputId": "2e14b443-a1de-4318-e9e3-d74595db25c9"
      },
      "execution_count": null,
      "outputs": [
        {
          "output_type": "stream",
          "name": "stdout",
          "text": [
            "He said his age is 6\n"
          ]
        }
      ]
    },
    {
      "cell_type": "markdown",
      "source": [
        "#### Float precision with f-string\n",
        "\n",
        "Syntax: `{value:{width}.{precision}}`"
      ],
      "metadata": {
        "id": "V6JTSeR0NK7r"
      }
    },
    {
      "cell_type": "code",
      "source": [
        "num = 3.14159\n",
        "\n",
        "print(f\"The valueof pi is: {num:{1}.{5}}\")"
      ],
      "metadata": {
        "colab": {
          "base_uri": "https://localhost:8080/"
        },
        "id": "R5ZuNuXCNOeC",
        "outputId": "3b01eda6-442b-45bb-dc01-7f9c75ec6ef3"
      },
      "execution_count": null,
      "outputs": [
        {
          "output_type": "stream",
          "name": "stdout",
          "text": [
            "The valueof pi is: 3.1416\n"
          ]
        }
      ]
    },
    {
      "cell_type": "markdown",
      "source": [
        "## Lists"
      ],
      "metadata": {
        "id": "Y7LUBqwDN5aV"
      }
    },
    {
      "cell_type": "code",
      "source": [
        "fruits = ['apple', 'banana', 'cherry']\n",
        "a_list = [23, 'hello', None, 3.14, fruits, 3 <= 5]\n",
        "a_list[2:10]"
      ],
      "metadata": {
        "colab": {
          "base_uri": "https://localhost:8080/"
        },
        "id": "Vz0Vuq2sN7Q6",
        "outputId": "9918e11e-664f-4036-8e66-b8116bc2e9b3"
      },
      "execution_count": null,
      "outputs": [
        {
          "output_type": "execute_result",
          "data": {
            "text/plain": [
              "[None, 3.14, ['apple', 'banana', 'cherry'], True]"
            ]
          },
          "metadata": {},
          "execution_count": 9
        }
      ]
    },
    {
      "cell_type": "code",
      "source": [
        "a_list[10]"
      ],
      "metadata": {
        "colab": {
          "base_uri": "https://localhost:8080/",
          "height": 141
        },
        "id": "on3Iw-TkOSpK",
        "outputId": "e45e23c9-cfaf-49b2-f3fe-a6f97d22e413"
      },
      "execution_count": null,
      "outputs": [
        {
          "output_type": "error",
          "ename": "IndexError",
          "evalue": "list index out of range",
          "traceback": [
            "\u001b[0;31m---------------------------------------------------------------------------\u001b[0m",
            "\u001b[0;31mIndexError\u001b[0m                                Traceback (most recent call last)",
            "\u001b[0;32m<ipython-input-10-1e7a69c995d4>\u001b[0m in \u001b[0;36m<cell line: 1>\u001b[0;34m()\u001b[0m\n\u001b[0;32m----> 1\u001b[0;31m \u001b[0ma_list\u001b[0m\u001b[0;34m[\u001b[0m\u001b[0;36m10\u001b[0m\u001b[0;34m]\u001b[0m\u001b[0;34m\u001b[0m\u001b[0;34m\u001b[0m\u001b[0m\n\u001b[0m",
            "\u001b[0;31mIndexError\u001b[0m: list index out of range"
          ]
        }
      ]
    },
    {
      "cell_type": "code",
      "source": [
        "a_list[12:10]"
      ],
      "metadata": {
        "colab": {
          "base_uri": "https://localhost:8080/"
        },
        "id": "g4dP062pOgJi",
        "outputId": "1b1948dd-8f50-4a43-de7b-ef318398ce65"
      },
      "execution_count": null,
      "outputs": [
        {
          "output_type": "execute_result",
          "data": {
            "text/plain": [
              "[]"
            ]
          },
          "metadata": {},
          "execution_count": 11
        }
      ]
    },
    {
      "cell_type": "code",
      "source": [
        "a_list[2:], a_list[:5]"
      ],
      "metadata": {
        "colab": {
          "base_uri": "https://localhost:8080/"
        },
        "id": "C3kpdFeROiZr",
        "outputId": "be7f88c3-40bd-4f06-e806-4c3747a5bbd1"
      },
      "execution_count": null,
      "outputs": [
        {
          "output_type": "execute_result",
          "data": {
            "text/plain": [
              "([None, 3.14, ['apple', 'banana', 'cherry'], True],\n",
              " [23, 'hello', None, 3.14, ['apple', 'banana', 'cherry']])"
            ]
          },
          "metadata": {},
          "execution_count": 12
        }
      ]
    },
    {
      "cell_type": "code",
      "source": [
        "a_list[-2:-5]"
      ],
      "metadata": {
        "colab": {
          "base_uri": "https://localhost:8080/"
        },
        "id": "-rFbU62QOvZW",
        "outputId": "6bfabad8-4655-4103-d435-88dd7bab1364"
      },
      "execution_count": null,
      "outputs": [
        {
          "output_type": "execute_result",
          "data": {
            "text/plain": [
              "[]"
            ]
          },
          "metadata": {},
          "execution_count": 13
        }
      ]
    },
    {
      "cell_type": "code",
      "source": [
        "a_list[-2:-5:-1]"
      ],
      "metadata": {
        "colab": {
          "base_uri": "https://localhost:8080/"
        },
        "id": "nIxjEIfbO-0K",
        "outputId": "5b81bcfd-e7b6-49bf-b367-605c66520ef1"
      },
      "execution_count": null,
      "outputs": [
        {
          "output_type": "execute_result",
          "data": {
            "text/plain": [
              "[['apple', 'banana', 'cherry'], 3.14, None]"
            ]
          },
          "metadata": {},
          "execution_count": 15
        }
      ]
    },
    {
      "cell_type": "code",
      "source": [
        "a_list[-5:-2]"
      ],
      "metadata": {
        "colab": {
          "base_uri": "https://localhost:8080/"
        },
        "id": "cEQi0wvZO31J",
        "outputId": "20ea2386-3b0a-42c3-8abf-75b291c0a2a5"
      },
      "execution_count": null,
      "outputs": [
        {
          "output_type": "execute_result",
          "data": {
            "text/plain": [
              "['hello', None, 3.14]"
            ]
          },
          "metadata": {},
          "execution_count": 14
        }
      ]
    },
    {
      "cell_type": "code",
      "source": [
        "a_list[::-1]"
      ],
      "metadata": {
        "colab": {
          "base_uri": "https://localhost:8080/"
        },
        "id": "ktZS86LtPIG6",
        "outputId": "00c5b388-c200-4f94-a85f-ce0e63bb2986"
      },
      "execution_count": null,
      "outputs": [
        {
          "output_type": "execute_result",
          "data": {
            "text/plain": [
              "[True, ['apple', 'banana', 'cherry'], 3.14, None, 'hello', 23]"
            ]
          },
          "metadata": {},
          "execution_count": 16
        }
      ]
    },
    {
      "cell_type": "code",
      "source": [
        "fruits = ['apple', 'banana', 'blueberry', 'cherry', 'dates', 'apple']\n",
        "fruits.remove('apple') # removes the first instance\n",
        "fruits"
      ],
      "metadata": {
        "colab": {
          "base_uri": "https://localhost:8080/"
        },
        "id": "o8K24u0QPXqa",
        "outputId": "cfb72242-acb7-4f29-93b7-c69ec661bb32"
      },
      "execution_count": null,
      "outputs": [
        {
          "output_type": "execute_result",
          "data": {
            "text/plain": [
              "['banana', 'blueberry', 'cherry', 'dates', 'apple']"
            ]
          },
          "metadata": {},
          "execution_count": 17
        }
      ]
    },
    {
      "cell_type": "code",
      "source": [
        "'pineapple' in fruits, 'cherry' in fruits"
      ],
      "metadata": {
        "colab": {
          "base_uri": "https://localhost:8080/"
        },
        "id": "jLYMcteGPhhw",
        "outputId": "faf141bf-8579-4f7a-baf4-e158d16293df"
      },
      "execution_count": null,
      "outputs": [
        {
          "output_type": "execute_result",
          "data": {
            "text/plain": [
              "(False, True)"
            ]
          },
          "metadata": {},
          "execution_count": 19
        }
      ]
    },
    {
      "cell_type": "code",
      "source": [
        "more_fruits = fruits + ['pineapple', 'tomato', 'guava'] + ['dates', 'banana']\n",
        "more_fruits"
      ],
      "metadata": {
        "colab": {
          "base_uri": "https://localhost:8080/"
        },
        "id": "-Ub4YYWjPwkq",
        "outputId": "2752911c-52a0-4fb3-85b0-5e0c391b2795"
      },
      "execution_count": null,
      "outputs": [
        {
          "output_type": "execute_result",
          "data": {
            "text/plain": [
              "['banana',\n",
              " 'blueberry',\n",
              " 'cherry',\n",
              " 'dates',\n",
              " 'apple',\n",
              " 'pineapple',\n",
              " 'tomato',\n",
              " 'guava',\n",
              " 'dates',\n",
              " 'banana']"
            ]
          },
          "metadata": {},
          "execution_count": 20
        }
      ]
    },
    {
      "cell_type": "markdown",
      "source": [
        "### Copying list\n",
        "\n",
        "using `.copy()` vs `==`"
      ],
      "metadata": {
        "id": "fE7J0Q7AlUxW"
      }
    },
    {
      "cell_type": "code",
      "source": [
        "# copy method\n",
        "\n",
        "more_fruits_copy = more_fruits.copy()\n",
        "print(more_fruits_copy)\n",
        "\n",
        "# Modify the copy\n",
        "more_fruits_copy.remove('pineapple')\n",
        "more_fruits_copy.pop()\n",
        "print(more_fruits_copy)\n",
        "print(more_fruits)  # original list is not affected"
      ],
      "metadata": {
        "colab": {
          "base_uri": "https://localhost:8080/"
        },
        "id": "9gwSbcu4PtD4",
        "outputId": "67dc2d41-fda3-4ba7-a0cb-e08a8128a4ec"
      },
      "execution_count": null,
      "outputs": [
        {
          "output_type": "stream",
          "name": "stdout",
          "text": [
            "['banana', 'blueberry', 'cherry', 'dates', 'apple', 'pineapple', 'tomato', 'guava', 'dates', 'banana']\n",
            "['banana', 'blueberry', 'cherry', 'dates', 'apple', 'tomato', 'guava', 'dates']\n",
            "['banana', 'blueberry', 'cherry', 'dates', 'apple', 'pineapple', 'tomato', 'guava', 'dates', 'banana']\n"
          ]
        }
      ]
    },
    {
      "cell_type": "code",
      "source": [
        "# using ==\n",
        "\n",
        "more_fruits_not_a_copy = more_fruits\n",
        "\n",
        "# make changes\n",
        "more_fruits_not_a_copy.remove('pineapple')\n",
        "more_fruits_not_a_copy.pop()\n",
        "print(more_fruits_not_a_copy)\n",
        "print(more_fruits)\n",
        "# changes in one list affect the other as they both point to the same list"
      ],
      "metadata": {
        "colab": {
          "base_uri": "https://localhost:8080/"
        },
        "id": "H0F0x5DTlwLq",
        "outputId": "eadc97dc-e251-4b8f-e66d-850f746f65ec"
      },
      "execution_count": null,
      "outputs": [
        {
          "output_type": "stream",
          "name": "stdout",
          "text": [
            "['banana', 'blueberry', 'cherry', 'dates', 'apple', 'tomato', 'guava', 'dates']\n",
            "['banana', 'blueberry', 'cherry', 'dates', 'apple', 'tomato', 'guava', 'dates']\n"
          ]
        }
      ]
    },
    {
      "cell_type": "code",
      "source": [
        "# Reverse the order of elements in a list\n",
        "more_fruits[::-1]"
      ],
      "metadata": {
        "colab": {
          "base_uri": "https://localhost:8080/"
        },
        "id": "cHRcKe39mbJp",
        "outputId": "2cdf67ff-69cd-4549-c45c-7e1b54016f3b"
      },
      "execution_count": null,
      "outputs": [
        {
          "output_type": "execute_result",
          "data": {
            "text/plain": [
              "['dates', 'guava', 'tomato', 'apple', 'dates', 'cherry', 'blueberry', 'banana']"
            ]
          },
          "metadata": {},
          "execution_count": 23
        }
      ]
    },
    {
      "cell_type": "code",
      "source": [
        "# Sort a list of strings in alphabetical order\n",
        "\n",
        "more_fruits.sort()\n",
        "more_fruits"
      ],
      "metadata": {
        "colab": {
          "base_uri": "https://localhost:8080/"
        },
        "id": "ITrSCrCVmhEb",
        "outputId": "6cbc5718-96d9-4f57-d8e8-642d82584cd3"
      },
      "execution_count": null,
      "outputs": [
        {
          "output_type": "execute_result",
          "data": {
            "text/plain": [
              "['apple', 'banana', 'blueberry', 'cherry', 'dates', 'dates', 'guava', 'tomato']"
            ]
          },
          "metadata": {},
          "execution_count": 25
        }
      ]
    },
    {
      "cell_type": "code",
      "source": [
        "more_fruits.sort(reverse=True)\n",
        "more_fruits"
      ],
      "metadata": {
        "colab": {
          "base_uri": "https://localhost:8080/"
        },
        "id": "YtMfucjkmrYW",
        "outputId": "2dcd8ffe-6cea-4bd4-9e64-5ffd312d9743"
      },
      "execution_count": null,
      "outputs": [
        {
          "output_type": "execute_result",
          "data": {
            "text/plain": [
              "['tomato', 'guava', 'dates', 'dates', 'cherry', 'blueberry', 'banana', 'apple']"
            ]
          },
          "metadata": {},
          "execution_count": 27
        }
      ]
    },
    {
      "cell_type": "markdown",
      "source": [
        "## Tuples\n",
        "\n",
        "it is not possible to add, remove, or modify values in a tuple. You can think of tuples as immutable lists."
      ],
      "metadata": {
        "id": "uAow_rQmnKwx"
      }
    },
    {
      "cell_type": "code",
      "source": [
        "fruits = ('apple', 'cherry', 'dates')\n",
        "fruits[0] = 'orange'"
      ],
      "metadata": {
        "colab": {
          "base_uri": "https://localhost:8080/",
          "height": 158
        },
        "id": "RXtXAJTanNCV",
        "outputId": "5b3fc6d5-5bd6-4548-8c0d-77670d1024ba"
      },
      "execution_count": null,
      "outputs": [
        {
          "output_type": "error",
          "ename": "TypeError",
          "evalue": "'tuple' object does not support item assignment",
          "traceback": [
            "\u001b[0;31m---------------------------------------------------------------------------\u001b[0m",
            "\u001b[0;31mTypeError\u001b[0m                                 Traceback (most recent call last)",
            "\u001b[0;32m<ipython-input-28-403398baec41>\u001b[0m in \u001b[0;36m<cell line: 2>\u001b[0;34m()\u001b[0m\n\u001b[1;32m      1\u001b[0m \u001b[0mfruits\u001b[0m \u001b[0;34m=\u001b[0m \u001b[0;34m(\u001b[0m\u001b[0;34m'apple'\u001b[0m\u001b[0;34m,\u001b[0m \u001b[0;34m'cherry'\u001b[0m\u001b[0;34m,\u001b[0m \u001b[0;34m'dates'\u001b[0m\u001b[0;34m)\u001b[0m\u001b[0;34m\u001b[0m\u001b[0;34m\u001b[0m\u001b[0m\n\u001b[0;32m----> 2\u001b[0;31m \u001b[0mfruits\u001b[0m\u001b[0;34m[\u001b[0m\u001b[0;36m0\u001b[0m\u001b[0;34m]\u001b[0m \u001b[0;34m=\u001b[0m \u001b[0;34m'orange'\u001b[0m\u001b[0;34m\u001b[0m\u001b[0;34m\u001b[0m\u001b[0m\n\u001b[0m",
            "\u001b[0;31mTypeError\u001b[0m: 'tuple' object does not support item assignment"
          ]
        }
      ]
    },
    {
      "cell_type": "code",
      "source": [
        "fruits.append('blueberry')"
      ],
      "metadata": {
        "colab": {
          "base_uri": "https://localhost:8080/",
          "height": 141
        },
        "id": "NQSmX456nY3R",
        "outputId": "65f0f541-4323-4da9-e8fe-3726caa2d796"
      },
      "execution_count": null,
      "outputs": [
        {
          "output_type": "error",
          "ename": "AttributeError",
          "evalue": "'tuple' object has no attribute 'append'",
          "traceback": [
            "\u001b[0;31m---------------------------------------------------------------------------\u001b[0m",
            "\u001b[0;31mAttributeError\u001b[0m                            Traceback (most recent call last)",
            "\u001b[0;32m<ipython-input-29-437991ef4bde>\u001b[0m in \u001b[0;36m<cell line: 1>\u001b[0;34m()\u001b[0m\n\u001b[0;32m----> 1\u001b[0;31m \u001b[0mfruits\u001b[0m\u001b[0;34m.\u001b[0m\u001b[0mappend\u001b[0m\u001b[0;34m(\u001b[0m\u001b[0;34m'blueberry'\u001b[0m\u001b[0;34m)\u001b[0m\u001b[0;34m\u001b[0m\u001b[0;34m\u001b[0m\u001b[0m\n\u001b[0m",
            "\u001b[0;31mAttributeError\u001b[0m: 'tuple' object has no attribute 'append'"
          ]
        }
      ]
    },
    {
      "cell_type": "code",
      "source": [
        "fruits.remove('apple')"
      ],
      "metadata": {
        "colab": {
          "base_uri": "https://localhost:8080/",
          "height": 141
        },
        "id": "CrwdJgMencup",
        "outputId": "97701626-4301-4852-a4bb-a91d390ef92d"
      },
      "execution_count": null,
      "outputs": [
        {
          "output_type": "error",
          "ename": "AttributeError",
          "evalue": "'tuple' object has no attribute 'remove'",
          "traceback": [
            "\u001b[0;31m---------------------------------------------------------------------------\u001b[0m",
            "\u001b[0;31mAttributeError\u001b[0m                            Traceback (most recent call last)",
            "\u001b[0;32m<ipython-input-30-e942fb359de5>\u001b[0m in \u001b[0;36m<cell line: 1>\u001b[0;34m()\u001b[0m\n\u001b[0;32m----> 1\u001b[0;31m \u001b[0mfruits\u001b[0m\u001b[0;34m.\u001b[0m\u001b[0mremove\u001b[0m\u001b[0;34m(\u001b[0m\u001b[0;34m'apple'\u001b[0m\u001b[0;34m)\u001b[0m\u001b[0;34m\u001b[0m\u001b[0;34m\u001b[0m\u001b[0m\n\u001b[0m",
            "\u001b[0;31mAttributeError\u001b[0m: 'tuple' object has no attribute 'remove'"
          ]
        }
      ]
    },
    {
      "cell_type": "code",
      "source": [
        "# Python automatically converts comma-separated values into a tuple.\n",
        "\n",
        "the_3_musketeers = 'Athos', 'Porthos', 'Aramis'\n",
        "print(the_3_musketeers)\n",
        "print(type(the_3_musketeers))"
      ],
      "metadata": {
        "colab": {
          "base_uri": "https://localhost:8080/"
        },
        "id": "pqswhDu8nipa",
        "outputId": "621cd443-71b2-4151-fec9-6a02749ed1a5"
      },
      "execution_count": null,
      "outputs": [
        {
          "output_type": "stream",
          "name": "stdout",
          "text": [
            "('Athos', 'Porthos', 'Aramis')\n",
            "<class 'tuple'>\n"
          ]
        }
      ]
    },
    {
      "cell_type": "code",
      "source": [
        "# ways of creating tuple\n",
        "\n",
        "single_element_tuple = 4,\n",
        "print(single_element_tuple)\n",
        "\n",
        "another_single_element_tuple = (4,)\n",
        "print(another_single_element_tuple)\n",
        "\n",
        "not_a_tuple = (4)\n",
        "print(not_a_tuple)"
      ],
      "metadata": {
        "colab": {
          "base_uri": "https://localhost:8080/"
        },
        "id": "z5hR1q1an9UJ",
        "outputId": "1d94989e-766b-4f76-c970-6f2df2f59e93"
      },
      "execution_count": null,
      "outputs": [
        {
          "output_type": "stream",
          "name": "stdout",
          "text": [
            "(4,)\n",
            "(4,)\n",
            "4\n"
          ]
        }
      ]
    },
    {
      "cell_type": "code",
      "source": [
        "# Tuples are often used to create multiple variables with a single statement.\n",
        "\n",
        "point = (3, 4)\n",
        "\n",
        "point_x, point_y = point\n",
        "point_x"
      ],
      "metadata": {
        "colab": {
          "base_uri": "https://localhost:8080/"
        },
        "id": "B9e4b98boSUq",
        "outputId": "a61e0e19-19d5-42ed-936c-2c0583b089ce"
      },
      "execution_count": null,
      "outputs": [
        {
          "output_type": "execute_result",
          "data": {
            "text/plain": [
              "3"
            ]
          },
          "metadata": {},
          "execution_count": 33
        }
      ]
    },
    {
      "cell_type": "code",
      "source": [
        "# convert list to tuple and vice versa\n",
        "\n",
        "print(tuple(['one', 'two', 'three']))\n",
        "\n",
        "list(('Athos', 'Porthos', 'Aramis'))\n",
        "\n"
      ],
      "metadata": {
        "colab": {
          "base_uri": "https://localhost:8080/"
        },
        "id": "ZaAHEaUcojVt",
        "outputId": "d19b163f-1c45-4d8e-a9b7-2d01e54c3a52"
      },
      "execution_count": null,
      "outputs": [
        {
          "output_type": "stream",
          "name": "stdout",
          "text": [
            "('one', 'two', 'three')\n"
          ]
        },
        {
          "output_type": "execute_result",
          "data": {
            "text/plain": [
              "['Athos', 'Porthos', 'Aramis']"
            ]
          },
          "metadata": {},
          "execution_count": 34
        }
      ]
    },
    {
      "cell_type": "code",
      "source": [
        "a_tuple = 23, \"hello\", False, None, 23, 37, \"hello\"\n",
        "\n",
        "help(a_tuple.count)"
      ],
      "metadata": {
        "colab": {
          "base_uri": "https://localhost:8080/"
        },
        "id": "qdVATcMMozWS",
        "outputId": "b7d2755e-48d5-4fc3-bce6-a954b72618e9"
      },
      "execution_count": null,
      "outputs": [
        {
          "output_type": "stream",
          "name": "stdout",
          "text": [
            "Help on built-in function count:\n",
            "\n",
            "count(value, /) method of builtins.tuple instance\n",
            "    Return number of occurrences of value.\n",
            "\n"
          ]
        }
      ]
    },
    {
      "cell_type": "code",
      "source": [
        "?a_tuple.index"
      ],
      "metadata": {
        "id": "NDxwVT2ro368"
      },
      "execution_count": null,
      "outputs": []
    },
    {
      "cell_type": "markdown",
      "source": [
        "### Dictionary\n",
        "\n",
        "A dictionary is an unordered collection of items.\n",
        "\n",
        "If a key isn't present in the dictionary, then a **KeyError** is thrown.\n",
        "\n",
        "The `get` method also accepts a default value, returned if the key is not present in the dictionary."
      ],
      "metadata": {
        "id": "tKIyKstJKcHH"
      }
    },
    {
      "cell_type": "code",
      "source": [
        "person2 = dict(name='Jane Judy', sex='Female', age=28, married=False)\n",
        "\n",
        "person2.get(\"address\") # no error"
      ],
      "metadata": {
        "id": "Z8jgjW73Ky7_"
      },
      "execution_count": null,
      "outputs": []
    },
    {
      "cell_type": "code",
      "source": [
        "person2.get(\"address\", \"Unknown\")"
      ],
      "metadata": {
        "colab": {
          "base_uri": "https://localhost:8080/",
          "height": 36
        },
        "id": "wda_LHFspCAo",
        "outputId": "37a74800-4cdf-457e-c47c-90e6a14b3d39"
      },
      "execution_count": null,
      "outputs": [
        {
          "output_type": "execute_result",
          "data": {
            "text/plain": [
              "'Unknown'"
            ],
            "application/vnd.google.colaboratory.intrinsic+json": {
              "type": "string"
            }
          },
          "metadata": {},
          "execution_count": 18
        }
      ]
    },
    {
      "cell_type": "markdown",
      "source": [
        "You can check <mark> whether a key is present</mark> in a dictionary using the `in` operator."
      ],
      "metadata": {
        "id": "Jyxz2nySLDSe"
      }
    },
    {
      "cell_type": "code",
      "source": [
        "'name' in person2, 'address' in person2"
      ],
      "metadata": {
        "colab": {
          "base_uri": "https://localhost:8080/"
        },
        "id": "NkVRbaU_K9x9",
        "outputId": "40a753a6-ca0b-4c91-9785-34e79f08c468"
      },
      "execution_count": null,
      "outputs": [
        {
          "output_type": "execute_result",
          "data": {
            "text/plain": [
              "(True, False)"
            ]
          },
          "metadata": {},
          "execution_count": 19
        }
      ]
    },
    {
      "cell_type": "markdown",
      "source": [
        "The assignment operator can also be used to add new key-value pairs to the dictionary."
      ],
      "metadata": {
        "id": "bQInAszYLSyw"
      }
    },
    {
      "cell_type": "code",
      "source": [
        "person2['address'] = '1, Penny Lane'\n",
        "person2"
      ],
      "metadata": {
        "colab": {
          "base_uri": "https://localhost:8080/"
        },
        "id": "-MxKgjT0LSG1",
        "outputId": "288e2038-4482-4de8-cfb6-33aa2150ef37"
      },
      "execution_count": null,
      "outputs": [
        {
          "output_type": "execute_result",
          "data": {
            "text/plain": [
              "{'name': 'Jane Judy',\n",
              " 'sex': 'Female',\n",
              " 'age': 28,\n",
              " 'married': False,\n",
              " 'address': '1, Penny Lane'}"
            ]
          },
          "metadata": {},
          "execution_count": 20
        }
      ]
    },
    {
      "cell_type": "code",
      "source": [
        "person2.pop('address')"
      ],
      "metadata": {
        "colab": {
          "base_uri": "https://localhost:8080/",
          "height": 36
        },
        "id": "fn2OWTEXLbVX",
        "outputId": "166d511c-62bf-43a2-e8eb-3e3365285206"
      },
      "execution_count": null,
      "outputs": [
        {
          "output_type": "execute_result",
          "data": {
            "text/plain": [
              "'1, Penny Lane'"
            ],
            "application/vnd.google.colaboratory.intrinsic+json": {
              "type": "string"
            }
          },
          "metadata": {},
          "execution_count": 21
        }
      ]
    },
    {
      "cell_type": "code",
      "source": [
        "person2"
      ],
      "metadata": {
        "colab": {
          "base_uri": "https://localhost:8080/"
        },
        "id": "oq_Cc18uLdNQ",
        "outputId": "f8dd7eb0-3440-453d-b927-ee68dabb11f4"
      },
      "execution_count": null,
      "outputs": [
        {
          "output_type": "execute_result",
          "data": {
            "text/plain": [
              "{'name': 'Jane Judy', 'sex': 'Female', 'age': 28, 'married': False}"
            ]
          },
          "metadata": {},
          "execution_count": 22
        }
      ]
    },
    {
      "cell_type": "markdown",
      "source": [
        "The results of `keys`, `values`, and `items` look like lists. However, they <mark>don't support the indexing operator </mark> [] for retrieving elements."
      ],
      "metadata": {
        "id": "LACKYsBucCjO"
      }
    },
    {
      "cell_type": "code",
      "source": [
        "person2.keys()"
      ],
      "metadata": {
        "colab": {
          "base_uri": "https://localhost:8080/"
        },
        "id": "FocY2x0_cB6A",
        "outputId": "251dd986-a3f8-4276-c43f-4a953414f7be"
      },
      "execution_count": null,
      "outputs": [
        {
          "output_type": "execute_result",
          "data": {
            "text/plain": [
              "dict_keys(['name', 'sex', 'age', 'married'])"
            ]
          },
          "metadata": {},
          "execution_count": 23
        }
      ]
    },
    {
      "cell_type": "code",
      "source": [
        "person2.values()"
      ],
      "metadata": {
        "colab": {
          "base_uri": "https://localhost:8080/"
        },
        "id": "F0J2GhfkcNB4",
        "outputId": "aee93340-eb1f-4df2-a617-f4be4afc8204"
      },
      "execution_count": null,
      "outputs": [
        {
          "output_type": "execute_result",
          "data": {
            "text/plain": [
              "dict_values(['Jane Judy', 'Female', 28, False])"
            ]
          },
          "metadata": {},
          "execution_count": 24
        }
      ]
    },
    {
      "cell_type": "code",
      "source": [
        "person2.items()"
      ],
      "metadata": {
        "colab": {
          "base_uri": "https://localhost:8080/"
        },
        "id": "n2Gzvr9fcSs_",
        "outputId": "5a1b3a40-cfaa-4f0b-8ac4-2551dc4eb903"
      },
      "execution_count": null,
      "outputs": [
        {
          "output_type": "execute_result",
          "data": {
            "text/plain": [
              "dict_items([('name', 'Jane Judy'), ('sex', 'Female'), ('age', 28), ('married', False)])"
            ]
          },
          "metadata": {},
          "execution_count": 25
        }
      ]
    },
    {
      "cell_type": "code",
      "source": [
        "person2.keys()[0]"
      ],
      "metadata": {
        "colab": {
          "base_uri": "https://localhost:8080/",
          "height": 141
        },
        "id": "ILOPRodicUy0",
        "outputId": "207ca15e-6a38-4fc7-b031-e60cacf5bf39"
      },
      "execution_count": null,
      "outputs": [
        {
          "output_type": "error",
          "ename": "TypeError",
          "evalue": "'dict_keys' object is not subscriptable",
          "traceback": [
            "\u001b[0;31m---------------------------------------------------------------------------\u001b[0m",
            "\u001b[0;31mTypeError\u001b[0m                                 Traceback (most recent call last)",
            "\u001b[0;32m<ipython-input-26-d3bcf6574003>\u001b[0m in \u001b[0;36m<cell line: 1>\u001b[0;34m()\u001b[0m\n\u001b[0;32m----> 1\u001b[0;31m \u001b[0mperson2\u001b[0m\u001b[0;34m.\u001b[0m\u001b[0mkeys\u001b[0m\u001b[0;34m(\u001b[0m\u001b[0;34m)\u001b[0m\u001b[0;34m[\u001b[0m\u001b[0;36m0\u001b[0m\u001b[0;34m]\u001b[0m\u001b[0;34m\u001b[0m\u001b[0;34m\u001b[0m\u001b[0m\n\u001b[0m",
            "\u001b[0;31mTypeError\u001b[0m: 'dict_keys' object is not subscriptable"
          ]
        }
      ]
    },
    {
      "cell_type": "code",
      "source": [
        "list(person2.keys())[0]"
      ],
      "metadata": {
        "id": "LEhBvo5CcaG2"
      },
      "execution_count": null,
      "outputs": []
    },
    {
      "cell_type": "code",
      "source": [],
      "metadata": {
        "id": "01QYOkgQg3Tx"
      },
      "execution_count": null,
      "outputs": []
    },
    {
      "cell_type": "code",
      "source": [],
      "metadata": {
        "id": "aOhGM1ajg3Kx"
      },
      "execution_count": null,
      "outputs": []
    },
    {
      "cell_type": "code",
      "source": [
        "## Challenges"
      ],
      "metadata": {
        "id": "TBjq_Rarg3Ab"
      },
      "execution_count": null,
      "outputs": []
    },
    {
      "cell_type": "code",
      "source": [
        "# guess output\n",
        "L = [\"ab\", \"cd\", \"ef\", \"gh\", \"ij\", \"kl\"]\n",
        "m=2\n",
        "\n",
        "for i in range(0,6,m):\n",
        "  print(\"\".join(L[i:i+m]), end=\" \")\n"
      ],
      "metadata": {
        "id": "-uSQG_v_g4-0"
      },
      "execution_count": null,
      "outputs": []
    },
    {
      "cell_type": "code",
      "source": [
        "# Print message based on condition\n",
        "\n",
        "name = 'Tony'\n",
        "age = 30\n",
        "hasAndroidPhone = True\n",
        "\n",
        "person1 = {'name': name, 'age': age, 'hasAndroidPhone': hasAndroidPhone}\n",
        "\n",
        "print(\"{} is aged {} and owns an {}\".format(\n",
        "    person1['name'],\n",
        "    person1['age'],\n",
        "    'android phone' if person1['hasAndroidPhone'] else 'iPhone'\n",
        "))"
      ],
      "metadata": {
        "id": "h7r7ryllizko"
      },
      "execution_count": null,
      "outputs": []
    },
    {
      "cell_type": "code",
      "source": [
        "print(f\"\"\"\n",
        "{person1['name']} is aged {person1['age']} and owns an {'android phone' if person1['hasAndroidPhone'] else 'iPhone'}\n",
        "      \"\"\"\n",
        ")"
      ],
      "metadata": {
        "id": "UXUd-mjujPPD"
      },
      "execution_count": null,
      "outputs": []
    },
    {
      "cell_type": "code",
      "source": [
        "#Use a for loop to display the type of each value stored against each key in person.\n",
        "\n",
        "for k,v in person1.items():\n",
        "  print(f'The key \"{k}\" has value \"{v} of type {type(v)}')"
      ],
      "metadata": {
        "colab": {
          "base_uri": "https://localhost:8080/"
        },
        "id": "09V7Unq-kvaD",
        "outputId": "161fe669-c9e0-4748-f07b-d22b993c0691"
      },
      "execution_count": null,
      "outputs": [
        {
          "output_type": "stream",
          "name": "stdout",
          "text": [
            "The key \"name\" has value \"Tony of type <class 'str'>\n",
            "The key \"age\" has value \"30 of type <class 'int'>\n",
            "The key \"hasAndroidPhone\" has value \"True of type <class 'bool'>\n"
          ]
        }
      ]
    },
    {
      "cell_type": "markdown",
      "source": [
        "**Q10: Calculate and display the sum of all the numbers divisible by 7 between 18 and 534 i.e. `21+28+35+...+525+532`**."
      ],
      "metadata": {
        "id": "pLjxEqRBmBjm"
      }
    },
    {
      "cell_type": "code",
      "source": [
        "sum = 0\n",
        "\n",
        "for i in range(18, 534):\n",
        "  if i%7 == 0:\n",
        "    sum+= i\n",
        "sum"
      ],
      "metadata": {
        "colab": {
          "base_uri": "https://localhost:8080/"
        },
        "id": "fdErqNVanGIB",
        "outputId": "bb4dd8a9-1f8a-4de8-c587-4445996df04e"
      },
      "execution_count": null,
      "outputs": [
        {
          "output_type": "execute_result",
          "data": {
            "text/plain": [
              "20461"
            ]
          },
          "metadata": {},
          "execution_count": 32
        }
      ]
    },
    {
      "cell_type": "code",
      "source": [
        "sum = 0\n",
        "i = 18\n",
        "\n",
        "while i<534:\n",
        "  if i%7 == 0:\n",
        "    sum += i\n",
        "    i = i+7\n",
        "  else:\n",
        "    i += 1\n",
        "print(sum)"
      ],
      "metadata": {
        "colab": {
          "base_uri": "https://localhost:8080/"
        },
        "id": "2lCmIJcqmCRy",
        "outputId": "43c0ec7e-a61a-40b2-b8c6-9900286addfc"
      },
      "execution_count": null,
      "outputs": [
        {
          "output_type": "stream",
          "name": "stdout",
          "text": [
            "20461\n"
          ]
        }
      ]
    },
    {
      "cell_type": "code",
      "source": [],
      "metadata": {
        "id": "wf45wEUUltuJ"
      },
      "execution_count": null,
      "outputs": []
    }
  ]
}